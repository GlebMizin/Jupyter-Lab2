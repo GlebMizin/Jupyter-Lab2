{
 "cells": [
  {
   "cell_type": "markdown",
   "source": [
    "# Индивидуальное задание"
   ],
   "metadata": {
    "collapsed": false,
    "pycharm": {
     "name": "#%% md\n"
    }
   }
  },
  {
   "cell_type": "markdown",
   "source": [
    "Вариант 12: Осуществить циклический сдвиг элементов прямоугольной матрицы на n элементов вправо или вниз (в зависимости от введенного режима), может быть больше количества элементов в строке или столбце.\n"
   ],
   "metadata": {
    "collapsed": false,
    "pycharm": {
     "name": "#%% md\n"
    }
   }
  },
  {
   "cell_type": "code",
   "execution_count": 48,
   "outputs": [],
   "source": [
    "import numpy as np"
   ],
   "metadata": {
    "collapsed": false,
    "pycharm": {
     "name": "#%%\n"
    }
   }
  },
  {
   "cell_type": "markdown",
   "source": [
    "Создадим матрицу случайных чисел"
   ],
   "metadata": {
    "collapsed": false,
    "pycharm": {
     "name": "#%% md\n"
    }
   }
  },
  {
   "cell_type": "code",
   "execution_count": 49,
   "outputs": [
    {
     "name": "stdout",
     "output_type": "stream",
     "text": [
      "[[ 6 10 17  3  7]\n",
      " [15 19  6  5  1]\n",
      " [ 8  4  9  7 14]\n",
      " [18 17  6  3 17]\n",
      " [12  7  2 18  0]]\n"
     ]
    }
   ],
   "source": [
    "M = np.random.randint (0, 20, (5, 5))\n",
    "print(M)"
   ],
   "metadata": {
    "collapsed": false,
    "pycharm": {
     "name": "#%%\n"
    }
   }
  },
  {
   "cell_type": "markdown",
   "source": [
    "Для циклического сдвига вдоль указанной оси библиотеке numpy есть функция roll()\n",
    "\n",
    "Данная функция принимает 3 параметра: a - numpy массив shift - определяет число смещений axis - определяет ось смещения"
   ],
   "metadata": {
    "collapsed": false,
    "pycharm": {
     "name": "#%% md\n"
    }
   }
  },
  {
   "cell_type": "code",
   "execution_count": 50,
   "outputs": [
    {
     "name": "stdout",
     "output_type": "stream",
     "text": [
      "[[18 17  6  3 17]\n",
      " [12  7  2 18  0]\n",
      " [ 6 10 17  3  7]\n",
      " [15 19  6  5  1]\n",
      " [ 8  4  9  7 14]]\n"
     ]
    }
   ],
   "source": [
    "rej_choose = int(input(\"Введите 0 для сдвига вниз или 1 для сдвига вправо\"))\n",
    "num = int(input(\"Укажите число на которое необходимо сдвинуть матрицу\"))\n",
    "if rej_choose == 0:\n",
    "    M = np.roll(M, num, axis = rej_choose) # Сдвиг вниз\n",
    "    print(M)\n",
    "elif rej_choose == 1:\n",
    "    M = np.roll(M, num, axis = rej_choose) # Сдвиг вправо\n",
    "    print(M)\n",
    "else:\n",
    "    print(\"Error\")"
   ],
   "metadata": {
    "collapsed": false,
    "pycharm": {
     "name": "#%%\n"
    }
   }
  },
  {
   "cell_type": "markdown",
   "source": [],
   "metadata": {
    "collapsed": false,
    "pycharm": {
     "name": "#%% md\n"
    }
   }
  }
 ],
 "metadata": {
  "kernelspec": {
   "display_name": "Python 3",
   "language": "python",
   "name": "python3"
  },
  "language_info": {
   "codemirror_mode": {
    "name": "ipython",
    "version": 2
   },
   "file_extension": ".py",
   "mimetype": "text/x-python",
   "name": "python",
   "nbconvert_exporter": "python",
   "pygments_lexer": "ipython2",
   "version": "2.7.6"
  }
 },
 "nbformat": 4,
 "nbformat_minor": 0
}